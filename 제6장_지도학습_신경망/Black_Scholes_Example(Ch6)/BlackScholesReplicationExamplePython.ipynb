{
 "cells": [
  {
   "cell_type": "code",
   "execution_count": 1,
   "metadata": {},
   "outputs": [],
   "source": [
    "# Expect this program to run for 30 minutes or more\n",
    "# Load package\n",
    "import numpy as np\n",
    "from scipy.stats import norm\n",
    "import random\n",
    "import matplotlib.pyplot as plt\n",
    "import numpy as np\n",
    "import pandas as pd\n",
    "\n",
    "\n",
    "from sklearn.model_selection import train_test_split\n",
    "from sklearn.linear_model import LinearRegression\n",
    "from sklearn.metrics import mean_squared_error\n",
    "from sklearn.preprocessing import StandardScaler\n",
    "\n",
    "\n",
    "import tensorflow as tf\n",
    "from tensorflow.keras.layers import Dense\n",
    "from tensorflow import keras\n",
    "\n",
    "from numpy.random import seed\n",
    "seed(100)\n",
    "\n",
    "\n",
    "import matplotlib.pyplot as plt\n",
    "from IPython.display import clear_output\n",
    "\n",
    "n = norm.pdf\n",
    "N = norm.cdf"
   ]
  },
  {
   "cell_type": "code",
   "execution_count": 2,
   "metadata": {
    "scrolled": true
   },
   "outputs": [
    {
     "data": {
      "text/html": [
       "<div>\n",
       "<style scoped>\n",
       "    .dataframe tbody tr th:only-of-type {\n",
       "        vertical-align: middle;\n",
       "    }\n",
       "\n",
       "    .dataframe tbody tr th {\n",
       "        vertical-align: top;\n",
       "    }\n",
       "\n",
       "    .dataframe thead th {\n",
       "        text-align: right;\n",
       "    }\n",
       "</style>\n",
       "<table border=\"1\" class=\"dataframe\">\n",
       "  <thead>\n",
       "    <tr style=\"text-align: right;\">\n",
       "      <th></th>\n",
       "      <th>Spot price</th>\n",
       "      <th>Strike Price</th>\n",
       "      <th>Risk Free Rate</th>\n",
       "      <th>Volatility</th>\n",
       "      <th>Maturity</th>\n",
       "      <th>Dividend</th>\n",
       "      <th>Option Price</th>\n",
       "      <th>Noise</th>\n",
       "      <th>Option Price with Noise</th>\n",
       "    </tr>\n",
       "  </thead>\n",
       "  <tbody>\n",
       "    <tr>\n",
       "      <td>0</td>\n",
       "      <td>55.84</td>\n",
       "      <td>72.592</td>\n",
       "      <td>0.013</td>\n",
       "      <td>0.276</td>\n",
       "      <td>1.78</td>\n",
       "      <td>0</td>\n",
       "      <td>3.569203</td>\n",
       "      <td>-0.262465</td>\n",
       "      <td>3.306738</td>\n",
       "    </tr>\n",
       "    <tr>\n",
       "      <td>1</td>\n",
       "      <td>57.96</td>\n",
       "      <td>34.776</td>\n",
       "      <td>0.033</td>\n",
       "      <td>0.171</td>\n",
       "      <td>0.85</td>\n",
       "      <td>0</td>\n",
       "      <td>24.146475</td>\n",
       "      <td>0.051402</td>\n",
       "      <td>24.197877</td>\n",
       "    </tr>\n",
       "    <tr>\n",
       "      <td>2</td>\n",
       "      <td>43.70</td>\n",
       "      <td>52.440</td>\n",
       "      <td>0.041</td>\n",
       "      <td>0.262</td>\n",
       "      <td>1.19</td>\n",
       "      <td>0</td>\n",
       "      <td>2.764509</td>\n",
       "      <td>0.172955</td>\n",
       "      <td>2.937464</td>\n",
       "    </tr>\n",
       "    <tr>\n",
       "      <td>3</td>\n",
       "      <td>54.44</td>\n",
       "      <td>65.328</td>\n",
       "      <td>0.041</td>\n",
       "      <td>0.289</td>\n",
       "      <td>1.63</td>\n",
       "      <td>0</td>\n",
       "      <td>5.529263</td>\n",
       "      <td>-0.037865</td>\n",
       "      <td>5.491398</td>\n",
       "    </tr>\n",
       "    <tr>\n",
       "      <td>4</td>\n",
       "      <td>53.42</td>\n",
       "      <td>58.762</td>\n",
       "      <td>0.037</td>\n",
       "      <td>0.322</td>\n",
       "      <td>1.20</td>\n",
       "      <td>0</td>\n",
       "      <td>6.357704</td>\n",
       "      <td>0.147198</td>\n",
       "      <td>6.504902</td>\n",
       "    </tr>\n",
       "  </tbody>\n",
       "</table>\n",
       "</div>"
      ],
      "text/plain": [
       "   Spot price  Strike Price  Risk Free Rate  Volatility  Maturity  Dividend  \\\n",
       "0       55.84        72.592           0.013       0.276      1.78         0   \n",
       "1       57.96        34.776           0.033       0.171      0.85         0   \n",
       "2       43.70        52.440           0.041       0.262      1.19         0   \n",
       "3       54.44        65.328           0.041       0.289      1.63         0   \n",
       "4       53.42        58.762           0.037       0.322      1.20         0   \n",
       "\n",
       "   Option Price     Noise  Option Price with Noise  \n",
       "0      3.569203 -0.262465                 3.306738  \n",
       "1     24.146475  0.051402                24.197877  \n",
       "2      2.764509  0.172955                 2.937464  \n",
       "3      5.529263 -0.037865                 5.491398  \n",
       "4      6.357704  0.147198                 6.504902  "
      ]
     },
     "execution_count": 2,
     "metadata": {},
     "output_type": "execute_result"
    }
   ],
   "source": [
    "# Load option data \n",
    "option_dataset = pd.read_csv('Option_Data.csv')\n",
    "option_dataset.head()"
   ]
  },
  {
   "cell_type": "markdown",
   "metadata": {},
   "source": [
    "## Divide data into Training, Validation and Test set"
   ]
  },
  {
   "cell_type": "code",
   "execution_count": 3,
   "metadata": {},
   "outputs": [],
   "source": [
    "# Include option price with and without noise in data set splitting for later BS mean error calculation on test set\n",
    "y = option_dataset[['Option Price with Noise','Option Price']]\n",
    "X = option_dataset[['Spot price', 'Strike Price', 'Risk Free Rate','Volatility','Maturity','Dividend']]\n",
    "\n",
    "# Divide data into training set and test set(note that random seed is set)\n",
    "X_train,X_test,y_train,y_test=train_test_split(X,y,test_size=0.2,random_state=100)\n",
    "\n",
    "# Divide training set into training and validation set\n",
    "X_train,X_val,y_train,y_val=train_test_split(X_train,y_train,test_size=0.25,random_state=100)"
   ]
  },
  {
   "cell_type": "markdown",
   "metadata": {},
   "source": [
    "## Feature Scaling"
   ]
  },
  {
   "cell_type": "code",
   "execution_count": 4,
   "metadata": {},
   "outputs": [],
   "source": [
    "# Scale features based on Z-Score\n",
    "scaler = StandardScaler()\n",
    "scaler.fit(X_train)\n",
    "\n",
    "\n",
    "X_scaled_train = scaler.transform(X_train)\n",
    "X_scaled_vals = scaler.transform(X_val)\n",
    "X_scaled_test = scaler.transform(X_test)\n",
    "y_train = np.asarray(y_train)\n",
    "y_val = np.asarray(y_val)\n",
    "y_test = np.asarray(y_test)"
   ]
  },
  {
   "cell_type": "markdown",
   "metadata": {},
   "source": [
    "## Define Neural Network"
   ]
  },
  {
   "cell_type": "code",
   "execution_count": 5,
   "metadata": {},
   "outputs": [
    {
     "name": "stdout",
     "output_type": "stream",
     "text": [
      "WARNING:tensorflow:From C:\\Users\\hull\\AppData\\Local\\Continuum\\anaconda3\\lib\\site-packages\\tensorflow\\python\\ops\\init_ops.py:1251: calling VarianceScaling.__init__ (from tensorflow.python.ops.init_ops) with dtype is deprecated and will be removed in a future version.\n",
      "Instructions for updating:\n",
      "Call initializer instance with the dtype argument instead of passing it to the constructor\n",
      "Model: \"sequential\"\n",
      "_________________________________________________________________\n",
      "Layer (type)                 Output Shape              Param #   \n",
      "=================================================================\n",
      "dense (Dense)                (None, 20)                140       \n",
      "_________________________________________________________________\n",
      "dense_1 (Dense)              (None, 20)                420       \n",
      "_________________________________________________________________\n",
      "dense_2 (Dense)              (None, 20)                420       \n",
      "_________________________________________________________________\n",
      "dense_3 (Dense)              (None, 1)                 21        \n",
      "=================================================================\n",
      "Total params: 1,001\n",
      "Trainable params: 1,001\n",
      "Non-trainable params: 0\n",
      "_________________________________________________________________\n"
     ]
    }
   ],
   "source": [
    "# Create ML Model\n",
    "# Sequential function allows you to define your Neural Network in sequential order\n",
    "# Within Sequential, use Dense function to define number of nodes, activation function and other related parameters \n",
    "# For more information regrading to activation functoin, please refer to https://keras.io/activations/\n",
    "model = keras.models.Sequential([Dense(20,activation = \"sigmoid\",input_shape = (6,)),\n",
    "                                 Dense(20,activation = \"sigmoid\"),Dense(20,activation = \"sigmoid\"),\n",
    "                                Dense(1)])\n",
    "\n",
    "# Model summary function shows what you created in the model\n",
    "model.summary()"
   ]
  },
  {
   "cell_type": "code",
   "execution_count": 6,
   "metadata": {},
   "outputs": [],
   "source": [
    "# Complie function allows you to choose your measure of loss and optimzer\n",
    "# For other optimizer, please refer to https://keras.io/optimizers/\n",
    "model.compile(loss = \"mae\",optimizer = \"Adam\")"
   ]
  },
  {
   "cell_type": "code",
   "execution_count": 7,
   "metadata": {},
   "outputs": [],
   "source": [
    "# Checkpoint function is used here to periodically save a copy of the model. \n",
    "# Currently it is set to save the best performing model\n",
    "checkpoint_cb = keras.callbacks.ModelCheckpoint(\"bs_pricing_model_vFinal.h5\",save_best_only = True)\n",
    "\n",
    "# Early stopping allows you to stop your training early if no improvment is shown after cerain period\n",
    "# Currently it is set at if no improvement occured in 5000 epochs, at the stop the model will also revert back to the best weight\n",
    "early_stopping_cb = keras.callbacks.EarlyStopping(patience = 5000,restore_best_weights = True)\n",
    "\n",
    "# Remark: checkpoint could be redundant here as early stopping function can also help restoring to the best weight\n",
    "# We put both here just to illustrate different ways to keep the best model"
   ]
  },
  {
   "cell_type": "code",
   "execution_count": 8,
   "metadata": {
    "scrolled": false
   },
   "outputs": [],
   "source": [
    "# train your model\n",
    "# The fit function allows you to train a NN model. Here we have training data, number of epochs, validation data, \n",
    "# and callbacks as input\n",
    "# Callback is an optional parameters that allow you to enable tricks for training such as early stopping and checkpoint\n",
    "\n",
    "# Remarks: Altough we put 50000 epochs here, the model will stop its training once our early stopping criterion is triggered\n",
    "# Also, select the first column of y_train data array, which is the option price with noise column\n",
    "history=model.fit(X_scaled_train,y_train[:,0],epochs= 50000,verbose = 0, validation_data=(X_scaled_vals,y_val[:,0]),\n",
    "                 callbacks=[checkpoint_cb,early_stopping_cb])\n",
    "\n",
    "\n"
   ]
  },
  {
   "cell_type": "markdown",
   "metadata": {},
   "source": [
    "## Calculate prediction error for both NN and BS analytical formula"
   ]
  },
  {
   "cell_type": "code",
   "execution_count": 9,
   "metadata": {},
   "outputs": [
    {
     "name": "stdout",
     "output_type": "stream",
     "text": [
      "WARNING:tensorflow:From C:\\Users\\hull\\AppData\\Local\\Continuum\\anaconda3\\lib\\site-packages\\tensorflow\\python\\ops\\init_ops.py:97: calling GlorotUniform.__init__ (from tensorflow.python.ops.init_ops) with dtype is deprecated and will be removed in a future version.\n",
      "Instructions for updating:\n",
      "Call initializer instance with the dtype argument instead of passing it to the constructor\n",
      "WARNING:tensorflow:From C:\\Users\\hull\\AppData\\Local\\Continuum\\anaconda3\\lib\\site-packages\\tensorflow\\python\\ops\\init_ops.py:97: calling Zeros.__init__ (from tensorflow.python.ops.init_ops) with dtype is deprecated and will be removed in a future version.\n",
      "Instructions for updating:\n",
      "Call initializer instance with the dtype argument instead of passing it to the constructor\n",
      "Nerual network mean absoluste error on test set: 0.12225558376312255\n"
     ]
    }
   ],
   "source": [
    "# Load the best model you saved and calcuate MAE for testing set\n",
    "\n",
    "model = keras.models.load_model(\"bs_pricing_model_vFinal.h5\")\n",
    "\n",
    "mae_test = model.evaluate(X_scaled_test,y_test[:,0],verbose=0)\n",
    "\n",
    "print('Nerual network mean absoluste error on test set:', mae_test)"
   ]
  },
  {
   "cell_type": "code",
   "execution_count": 10,
   "metadata": {},
   "outputs": [
    {
     "name": "stdout",
     "output_type": "stream",
     "text": [
      "Black-Scholes Statistics:\n",
      "Mean error on test set: 0.005381285272161471\n",
      "Standard deviation of error on test set: 0.14823355567443217\n",
      " \n",
      "Neural Network Statistics:\n",
      "Mean error on test set vs. option price with noise: -0.002375611465584136\n",
      "Standard deviation of error on test set vs. option price with noise: 0.1546465204415661\n",
      "Mean error on test set vs. BS analytical formula price: 0.0030056738065773335\n",
      "Standard deviation of error on test set vs. BS analytical formula price: 0.048179439291695665\n"
     ]
    }
   ],
   "source": [
    "model_prediction = model.predict(X_scaled_test)\n",
    "mean_error = np.average(model_prediction.T - y_test[:,0])\n",
    "std_error = np.std(model_prediction.T - y_test[:,0])\n",
    "\n",
    "mean_error_vs_BS_price = np.average(model_prediction.T - y_test[:,1])\n",
    "std_error_vs_BS_price = np.std(model_prediction.T - y_test[:,1])\n",
    "\n",
    "BS_mean_error = np.average(y_test[:,0] - y_test[:,1])\n",
    "BS_std_error = np.std(y_test[:,0] - y_test[:,1])\n",
    "\n",
    "print('Black-Scholes Statistics:')\n",
    "print('Mean error on test set:',BS_mean_error)\n",
    "print('Standard deviation of error on test set:',BS_std_error)\n",
    "print(\" \")\n",
    "print('Neural Network Statistics:')\n",
    "print('Mean error on test set vs. option price with noise:',mean_error)\n",
    "print('Standard deviation of error on test set vs. option price with noise:',std_error)\n",
    "print('Mean error on test set vs. BS analytical formula price:',mean_error_vs_BS_price)\n",
    "print('Standard deviation of error on test set vs. BS analytical formula price:',std_error_vs_BS_price)\n",
    "\n"
   ]
  },
  {
   "cell_type": "markdown",
   "metadata": {},
   "source": [
    "## Review your results and export training history"
   ]
  },
  {
   "cell_type": "code",
   "execution_count": 11,
   "metadata": {},
   "outputs": [
    {
     "data": {
      "image/png": "[encoded data removed]",
      "text/plain": [
       "<Figure size 576x360 with 1 Axes>"
      ]
     },
     "metadata": {
      "needs_background": "light"
     },
     "output_type": "display_data"
    }
   ],
   "source": [
    "# Plot training history\n",
    "\n",
    "pd.DataFrame(history.history).plot(figsize=(8,5))\n",
    "plt.grid(True)\n",
    "plt.gca().set_ylim(0.1,0.2)\n",
    "plt.show()\n",
    "\n",
    "#Export your training history for MSE\n",
    "output = pd.DataFrame(history.history)\n",
    "output.to_csv(\"mae_history.csv\")"
   ]
  },
  {
   "cell_type": "code",
   "execution_count": null,
   "metadata": {},
   "outputs": [],
   "source": []
  }
 ],
 "metadata": {
  "kernelspec": {
   "display_name": "Python 3",
   "language": "python",
   "name": "python3"
  },
  "language_info": {
   "codemirror_mode": {
    "name": "ipython",
    "version": 3
   },
   "file_extension": ".py",
   "mimetype": "text/x-python",
   "name": "python",
   "nbconvert_exporter": "python",
   "pygments_lexer": "ipython3",
   "version": "3.7.4"
  }
 },
 "nbformat": 4,
 "nbformat_minor": 4
}
